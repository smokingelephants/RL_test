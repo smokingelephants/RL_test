{
  "nbformat": 4,
  "nbformat_minor": 0,
  "metadata": {
    "colab": {
      "name": "saving_loading_a2c.ipynb",
      "version": "0.3.2",
      "provenance": [],
      "collapsed_sections": [],
      "toc_visible": true,
      "include_colab_link": true
    },
    "kernelspec": {
      "name": "python3",
      "display_name": "Python 3"
    },
    "accelerator": "GPU"
  },
  "cells": [
    {
      "cell_type": "markdown",
      "metadata": {
        "id": "view-in-github",
        "colab_type": "text"
      },
      "source": [
        "<a href=\"https://colab.research.google.com/github/smokingelephants/RL_test/blob/master/saving_loading_a2c.ipynb\" target=\"_parent\"><img src=\"https://colab.research.google.com/assets/colab-badge.svg\" alt=\"Open In Colab\"/></a>"
      ]
    },
    {
      "metadata": {
        "id": "hyyN-2qyK_T2",
        "colab_type": "text"
      },
      "cell_type": "markdown",
      "source": [
        "# Stable Baselines, a Fork of OpenAI Baselines - Training, Saving and Loading\n",
        "\n",
        "Github Repo: [https://github.com/hill-a/stable-baselines](https://github.com/hill-a/stable-baselines)\n",
        "\n",
        "Medium article: [https://medium.com/@araffin/stable-baselines-a-fork-of-openai-baselines-df87c4b2fc82](https://medium.com/@araffin/stable-baselines-a-fork-of-openai-baselines-df87c4b2fc82)\n",
        "\n",
        "## Install Dependencies and Stable Baselines Using Pip\n",
        "\n",
        "List of full dependencies can be found in the [README](https://github.com/hill-a/stable-baselines).\n",
        "\n",
        "```\n",
        "\n",
        "sudo apt-get update && sudo apt-get install cmake libopenmpi-dev zlib1g-dev\n",
        "```\n",
        "\n",
        "\n",
        "```\n",
        "\n",
        "pip install stable-baselines\n",
        "```"
      ]
    },
    {
      "metadata": {
        "id": "gWskDE2c9WoN",
        "colab_type": "code",
        "colab": {
          "base_uri": "https://localhost:8080/",
          "height": 1966
        },
        "outputId": "389ff4be-dfb0-42cb-8700-f94cdea23196"
      },
      "cell_type": "code",
      "source": [
        "!apt install swig cmake libopenmpi-dev zlib1g-dev\n",
        "!pip install stable-baselines==2.2.0 box2d box2d-kengz"
      ],
      "execution_count": 2,
      "outputs": [
        {
          "output_type": "stream",
          "text": [
            "Reading package lists... Done\n",
            "Building dependency tree       \n",
            "Reading state information... Done\n",
            "cmake is already the newest version (3.10.2-1ubuntu2).\n",
            "zlib1g-dev is already the newest version (1:1.2.11.dfsg-0ubuntu2).\n",
            "zlib1g-dev set to manually installed.\n",
            "libopenmpi-dev is already the newest version (2.1.1-8).\n",
            "The following package was automatically installed and is no longer required:\n",
            "  libnvidia-common-410\n",
            "Use 'apt autoremove' to remove it.\n",
            "The following additional packages will be installed:\n",
            "  swig3.0\n",
            "Suggested packages:\n",
            "  swig-doc swig-examples swig3.0-examples swig3.0-doc\n",
            "The following NEW packages will be installed:\n",
            "  swig swig3.0\n",
            "0 upgraded, 2 newly installed, 0 to remove and 6 not upgraded.\n",
            "Need to get 1,100 kB of archives.\n",
            "After this operation, 5,822 kB of additional disk space will be used.\n",
            "Get:1 http://archive.ubuntu.com/ubuntu bionic/universe amd64 swig3.0 amd64 3.0.12-1 [1,094 kB]\n",
            "Get:2 http://archive.ubuntu.com/ubuntu bionic/universe amd64 swig amd64 3.0.12-1 [6,460 B]\n",
            "Fetched 1,100 kB in 2s (617 kB/s)\n",
            "Selecting previously unselected package swig3.0.\n",
            "(Reading database ... 131304 files and directories currently installed.)\n",
            "Preparing to unpack .../swig3.0_3.0.12-1_amd64.deb ...\n",
            "Unpacking swig3.0 (3.0.12-1) ...\n",
            "Selecting previously unselected package swig.\n",
            "Preparing to unpack .../swig_3.0.12-1_amd64.deb ...\n",
            "Unpacking swig (3.0.12-1) ...\n",
            "Setting up swig3.0 (3.0.12-1) ...\n",
            "Processing triggers for man-db (2.8.3-2ubuntu0.1) ...\n",
            "Setting up swig (3.0.12-1) ...\n",
            "Collecting stable-baselines==2.2.0\n",
            "\u001b[?25l  Downloading https://files.pythonhosted.org/packages/00/2f/471a32bd4433570268478cd66cc49d521629a5e6538ca6867cc1a12072e9/stable_baselines-2.2.0-py3-none-any.whl (222kB)\n",
            "\u001b[K    100% |████████████████████████████████| 225kB 36.8MB/s \n",
            "\u001b[?25hCollecting box2d\n",
            "\u001b[?25l  Downloading https://files.pythonhosted.org/packages/cc/7b/ddb96fea1fa5b24f8929714ef483f64c33e9649e7aae066e5f5023ea426a/Box2D-2.3.2.tar.gz (427kB)\n",
            "\u001b[K    100% |████████████████████████████████| 430kB 30.4MB/s \n",
            "\u001b[?25hCollecting box2d-kengz\n",
            "\u001b[?25l  Downloading https://files.pythonhosted.org/packages/81/20/51d6c0c87f7642efb709c518fb0ca8e5eab068259588552c41da5926ae27/Box2D-kengz-2.3.3.tar.gz (425kB)\n",
            "\u001b[K    100% |████████████████████████████████| 430kB 33.2MB/s \n",
            "\u001b[?25hRequirement already satisfied: seaborn in /usr/local/lib/python3.6/dist-packages (from stable-baselines==2.2.0) (0.9.0)\n",
            "Requirement already satisfied: joblib in /usr/local/lib/python3.6/dist-packages (from stable-baselines==2.2.0) (0.12.5)\n",
            "Requirement already satisfied: dill in /usr/local/lib/python3.6/dist-packages (from stable-baselines==2.2.0) (0.2.9)\n",
            "Requirement already satisfied: tqdm in /usr/local/lib/python3.6/dist-packages (from stable-baselines==2.2.0) (4.28.1)\n",
            "Requirement already satisfied: tensorflow>=1.5.0 in /usr/local/lib/python3.6/dist-packages (from stable-baselines==2.2.0) (1.13.1)\n",
            "Requirement already satisfied: zmq in /usr/local/lib/python3.6/dist-packages (from stable-baselines==2.2.0) (0.0.0)\n",
            "Requirement already satisfied: glob2 in /usr/local/lib/python3.6/dist-packages (from stable-baselines==2.2.0) (0.6)\n",
            "Requirement already satisfied: click in /usr/local/lib/python3.6/dist-packages (from stable-baselines==2.2.0) (7.0)\n",
            "Requirement already satisfied: numpy in /usr/local/lib/python3.6/dist-packages (from stable-baselines==2.2.0) (1.16.3)\n",
            "Requirement already satisfied: pandas in /usr/local/lib/python3.6/dist-packages (from stable-baselines==2.2.0) (0.24.2)\n",
            "Requirement already satisfied: matplotlib in /usr/local/lib/python3.6/dist-packages (from stable-baselines==2.2.0) (3.0.3)\n",
            "Requirement already satisfied: progressbar2 in /usr/local/lib/python3.6/dist-packages (from stable-baselines==2.2.0) (3.38.0)\n",
            "Requirement already satisfied: cloudpickle in /usr/local/lib/python3.6/dist-packages (from stable-baselines==2.2.0) (0.6.1)\n",
            "Requirement already satisfied: mpi4py in /usr/local/lib/python3.6/dist-packages (from stable-baselines==2.2.0) (3.0.1)\n",
            "Requirement already satisfied: scipy in /usr/local/lib/python3.6/dist-packages (from stable-baselines==2.2.0) (1.2.1)\n",
            "Requirement already satisfied: gym[atari,classic_control]>=0.10.9 in /usr/local/lib/python3.6/dist-packages (from stable-baselines==2.2.0) (0.10.11)\n",
            "Requirement already satisfied: opencv-python in /usr/local/lib/python3.6/dist-packages (from stable-baselines==2.2.0) (3.4.5.20)\n",
            "Requirement already satisfied: termcolor>=1.1.0 in /usr/local/lib/python3.6/dist-packages (from tensorflow>=1.5.0->stable-baselines==2.2.0) (1.1.0)\n",
            "Requirement already satisfied: keras-preprocessing>=1.0.5 in /usr/local/lib/python3.6/dist-packages (from tensorflow>=1.5.0->stable-baselines==2.2.0) (1.0.9)\n",
            "Requirement already satisfied: grpcio>=1.8.6 in /usr/local/lib/python3.6/dist-packages (from tensorflow>=1.5.0->stable-baselines==2.2.0) (1.15.0)\n",
            "Requirement already satisfied: gast>=0.2.0 in /usr/local/lib/python3.6/dist-packages (from tensorflow>=1.5.0->stable-baselines==2.2.0) (0.2.2)\n",
            "Requirement already satisfied: absl-py>=0.1.6 in /usr/local/lib/python3.6/dist-packages (from tensorflow>=1.5.0->stable-baselines==2.2.0) (0.7.1)\n",
            "Requirement already satisfied: tensorflow-estimator<1.14.0rc0,>=1.13.0 in /usr/local/lib/python3.6/dist-packages (from tensorflow>=1.5.0->stable-baselines==2.2.0) (1.13.0)\n",
            "Requirement already satisfied: protobuf>=3.6.1 in /usr/local/lib/python3.6/dist-packages (from tensorflow>=1.5.0->stable-baselines==2.2.0) (3.7.1)\n",
            "Requirement already satisfied: keras-applications>=1.0.6 in /usr/local/lib/python3.6/dist-packages (from tensorflow>=1.5.0->stable-baselines==2.2.0) (1.0.7)\n",
            "Requirement already satisfied: tensorboard<1.14.0,>=1.13.0 in /usr/local/lib/python3.6/dist-packages (from tensorflow>=1.5.0->stable-baselines==2.2.0) (1.13.1)\n",
            "Requirement already satisfied: six>=1.10.0 in /usr/local/lib/python3.6/dist-packages (from tensorflow>=1.5.0->stable-baselines==2.2.0) (1.12.0)\n",
            "Requirement already satisfied: astor>=0.6.0 in /usr/local/lib/python3.6/dist-packages (from tensorflow>=1.5.0->stable-baselines==2.2.0) (0.7.1)\n",
            "Requirement already satisfied: wheel>=0.26 in /usr/local/lib/python3.6/dist-packages (from tensorflow>=1.5.0->stable-baselines==2.2.0) (0.33.1)\n",
            "Requirement already satisfied: pyzmq in /usr/local/lib/python3.6/dist-packages (from zmq->stable-baselines==2.2.0) (17.0.0)\n",
            "Requirement already satisfied: pytz>=2011k in /usr/local/lib/python3.6/dist-packages (from pandas->stable-baselines==2.2.0) (2018.9)\n",
            "Requirement already satisfied: python-dateutil>=2.5.0 in /usr/local/lib/python3.6/dist-packages (from pandas->stable-baselines==2.2.0) (2.5.3)\n",
            "Requirement already satisfied: kiwisolver>=1.0.1 in /usr/local/lib/python3.6/dist-packages (from matplotlib->stable-baselines==2.2.0) (1.0.1)\n",
            "Requirement already satisfied: cycler>=0.10 in /usr/local/lib/python3.6/dist-packages (from matplotlib->stable-baselines==2.2.0) (0.10.0)\n",
            "Requirement already satisfied: pyparsing!=2.0.4,!=2.1.2,!=2.1.6,>=2.0.1 in /usr/local/lib/python3.6/dist-packages (from matplotlib->stable-baselines==2.2.0) (2.4.0)\n",
            "Requirement already satisfied: python-utils>=2.3.0 in /usr/local/lib/python3.6/dist-packages (from progressbar2->stable-baselines==2.2.0) (2.3.0)\n",
            "Requirement already satisfied: requests>=2.0 in /usr/local/lib/python3.6/dist-packages (from gym[atari,classic_control]>=0.10.9->stable-baselines==2.2.0) (2.21.0)\n",
            "Requirement already satisfied: pyglet>=1.2.0 in /usr/local/lib/python3.6/dist-packages (from gym[atari,classic_control]>=0.10.9->stable-baselines==2.2.0) (1.3.2)\n",
            "Requirement already satisfied: atari_py>=0.1.4 in /usr/local/lib/python3.6/dist-packages (from gym[atari,classic_control]>=0.10.9->stable-baselines==2.2.0) (0.1.7)\n",
            "Requirement already satisfied: Pillow in /usr/local/lib/python3.6/dist-packages (from gym[atari,classic_control]>=0.10.9->stable-baselines==2.2.0) (4.3.0)\n",
            "Requirement already satisfied: PyOpenGL in /usr/local/lib/python3.6/dist-packages (from gym[atari,classic_control]>=0.10.9->stable-baselines==2.2.0) (3.1.0)\n",
            "Requirement already satisfied: mock>=2.0.0 in /usr/local/lib/python3.6/dist-packages (from tensorflow-estimator<1.14.0rc0,>=1.13.0->tensorflow>=1.5.0->stable-baselines==2.2.0) (2.0.0)\n",
            "Requirement already satisfied: setuptools in /usr/local/lib/python3.6/dist-packages (from protobuf>=3.6.1->tensorflow>=1.5.0->stable-baselines==2.2.0) (40.9.0)\n",
            "Requirement already satisfied: h5py in /usr/local/lib/python3.6/dist-packages (from keras-applications>=1.0.6->tensorflow>=1.5.0->stable-baselines==2.2.0) (2.8.0)\n",
            "Requirement already satisfied: werkzeug>=0.11.15 in /usr/local/lib/python3.6/dist-packages (from tensorboard<1.14.0,>=1.13.0->tensorflow>=1.5.0->stable-baselines==2.2.0) (0.15.2)\n",
            "Requirement already satisfied: markdown>=2.6.8 in /usr/local/lib/python3.6/dist-packages (from tensorboard<1.14.0,>=1.13.0->tensorflow>=1.5.0->stable-baselines==2.2.0) (3.1)\n",
            "Requirement already satisfied: certifi>=2017.4.17 in /usr/local/lib/python3.6/dist-packages (from requests>=2.0->gym[atari,classic_control]>=0.10.9->stable-baselines==2.2.0) (2019.3.9)\n",
            "Requirement already satisfied: chardet<3.1.0,>=3.0.2 in /usr/local/lib/python3.6/dist-packages (from requests>=2.0->gym[atari,classic_control]>=0.10.9->stable-baselines==2.2.0) (3.0.4)\n",
            "Requirement already satisfied: urllib3<1.25,>=1.21.1 in /usr/local/lib/python3.6/dist-packages (from requests>=2.0->gym[atari,classic_control]>=0.10.9->stable-baselines==2.2.0) (1.24.2)\n",
            "Requirement already satisfied: idna<2.9,>=2.5 in /usr/local/lib/python3.6/dist-packages (from requests>=2.0->gym[atari,classic_control]>=0.10.9->stable-baselines==2.2.0) (2.8)\n",
            "Requirement already satisfied: future in /usr/local/lib/python3.6/dist-packages (from pyglet>=1.2.0->gym[atari,classic_control]>=0.10.9->stable-baselines==2.2.0) (0.16.0)\n",
            "Requirement already satisfied: olefile in /usr/local/lib/python3.6/dist-packages (from Pillow->gym[atari,classic_control]>=0.10.9->stable-baselines==2.2.0) (0.46)\n",
            "Requirement already satisfied: pbr>=0.11 in /usr/local/lib/python3.6/dist-packages (from mock>=2.0.0->tensorflow-estimator<1.14.0rc0,>=1.13.0->tensorflow>=1.5.0->stable-baselines==2.2.0) (5.1.3)\n",
            "Building wheels for collected packages: box2d, box2d-kengz\n",
            "  Building wheel for box2d (setup.py) ... \u001b[?25ldone\n",
            "\u001b[?25h  Stored in directory: /root/.cache/pip/wheels/35/09/fd/054e73da7184a08071ed889bf45772719c7bb6d2dd13f166a1\n",
            "  Building wheel for box2d-kengz (setup.py) ... \u001b[?25ldone\n",
            "\u001b[?25h  Stored in directory: /root/.cache/pip/wheels/75/ae/e5/8bc678d262caad94659c199c540550e59d03dd3bd3684d4f1a\n",
            "Successfully built box2d box2d-kengz\n",
            "Installing collected packages: stable-baselines, box2d, box2d-kengz\n",
            "  Found existing installation: stable-baselines 2.2.1\n",
            "    Uninstalling stable-baselines-2.2.1:\n",
            "      Successfully uninstalled stable-baselines-2.2.1\n",
            "Successfully installed box2d-2.3.2 box2d-kengz-2.3.3 stable-baselines-2.2.0\n"
          ],
          "name": "stdout"
        }
      ]
    },
    {
      "metadata": {
        "id": "FtY8FhliLsGm",
        "colab_type": "text"
      },
      "cell_type": "markdown",
      "source": [
        "## Import policy, RL agent, ..."
      ]
    },
    {
      "metadata": {
        "id": "BIedd7Pz9sOs",
        "colab_type": "code",
        "colab": {}
      },
      "cell_type": "code",
      "source": [
        "import gym\n",
        "import numpy as np\n",
        "\n",
        "from stable_baselines.common.policies import MlpPolicy, CnnPolicy\n",
        "from stable_baselines.common.vec_env import DummyVecEnv\n",
        "from stable_baselines import A2C,DQN\n",
        "from stable_baselines.deepq.policies import DQNPolicy\n"
      ],
      "execution_count": 0,
      "outputs": []
    },
    {
      "metadata": {
        "id": "RapkYvTXL7Cd",
        "colab_type": "text"
      },
      "cell_type": "markdown",
      "source": [
        "## Create the Gym env and instantiate the agent\n",
        "\n",
        "For this example, we will use Lunar Lander environment.\n",
        "\n",
        "\"Landing outside landing pad is possible. Fuel is infinite, so an agent can learn to fly and then land on its first attempt. Four discrete actions available: do nothing, fire left orientation engine, fire main engine, fire right orientation engine. \"\n",
        "\n",
        "Lunar Lander environment: [https://gym.openai.com/envs/LunarLander-v2/](https://gym.openai.com/envs/LunarLander-v2/)\n",
        "\n",
        "\n",
        "\n",
        "Note: vectorized environments allow to easily multiprocess training. In this example, we are using only one process, hence the DummyVecEnv.\n",
        "\n",
        "We chose the MlpPolicy because input of CartPole is a feature vector, not images.\n",
        "\n",
        "The type of action to use (discrete/continuous) will be automatically deduced from the environment action space\n",
        "\n"
      ]
    },
    {
      "metadata": {
        "id": "pUWGZp3i9wyf",
        "colab_type": "code",
        "outputId": "5d2d0d78-7833-48d2-c890-eddf89a9361d",
        "colab": {
          "base_uri": "https://localhost:8080/",
          "height": 1469
        }
      },
      "cell_type": "code",
      "source": [
        "#env = gym.make('LunarLander-v2')\n",
        "env = gym.make('CartPole-v0')\n",
        "#env = gym.make('Pong-v0')\n",
        "# vectorized environments allow to easily multiprocess training\n",
        "# we demonstrate its usefulness in the next examples\n",
        "#env = DummyVecEnv([lambda: env])  # The algorithms require a vectorized environment to run\n",
        "import pdb;pdb.set_trace()\n",
        "model = DQN(DQNPolicy, env)\n",
        "#model = A2C(CnnPolicy, env, ent_coef=0.1, verbose=0)\n"
      ],
      "execution_count": 0,
      "outputs": [
        {
          "output_type": "stream",
          "text": [
            "--Return--\n",
            "> <ipython-input-81-085ccda4f0df>(6)<module>()->None\n",
            "-> import pdb;pdb.set_trace()\n",
            "--KeyboardInterrupt--\n",
            "(Pdb) l\n",
            "  1  \tenv = gym.make('CartPole-v0')\n",
            "  2  \t#env = gym.make('Pong-v0')\n",
            "  3  \t# vectorized environments allow to easily multiprocess training\n",
            "  4  \t# we demonstrate its usefulness in the next examples\n",
            "  5  \t#env = DummyVecEnv([lambda: env])  # The algorithms require a vectorized environment to run\n",
            "  6  ->\timport pdb;pdb.set_trace()\n",
            "  7  \tmodel = DQN(DQNPolicy, env)\n",
            "  8  \t#model = A2C(CnnPolicy, env, ent_coef=0.1, verbose=0)\n",
            "[EOF]\n",
            "(Pdb) s\n",
            "> /usr/local/lib/python3.6/dist-packages/IPython/core/interactiveshell.py(2885)run_code()\n",
            "-> sys.excepthook = old_excepthook\n",
            "(Pdb) s\n",
            "> /usr/local/lib/python3.6/dist-packages/IPython/core/interactiveshell.py(2901)run_code()\n",
            "-> outflag = 0\n",
            "(Pdb) s\n",
            "> /usr/local/lib/python3.6/dist-packages/IPython/core/interactiveshell.py(2902)run_code()\n",
            "-> return outflag\n",
            "(Pdb) s\n",
            "--Return--\n",
            "> /usr/local/lib/python3.6/dist-packages/IPython/core/interactiveshell.py(2902)run_code()->0\n",
            "-> return outflag\n",
            "(Pdb) l\n",
            "2897 \t            if result is not None:\n",
            "2898 \t                result.error_in_exec = sys.exc_info()[1]\n",
            "2899 \t            self.showtraceback()\n",
            "2900 \t        else:\n",
            "2901 \t            outflag = 0\n",
            "2902 ->\t        return outflag\n",
            "2903 \t\n",
            "2904 \t    # For backwards compatibility\n",
            "2905 \t    runcode = run_code\n",
            "2906 \t\n",
            "2907 \t    #-------------------------------------------------------------------------\n",
            "(Pdb) s\n",
            "> /usr/local/lib/python3.6/dist-packages/IPython/core/interactiveshell.py(2819)run_ast_nodes()\n",
            "-> for i, node in enumerate(to_run_exec):\n",
            "(Pdb) s\n",
            "> /usr/local/lib/python3.6/dist-packages/IPython/core/interactiveshell.py(2820)run_ast_nodes()\n",
            "-> mod = ast.Module([node])\n",
            "(Pdb) l\n",
            "2815 \t        else:\n",
            "2816 \t            raise ValueError(\"Interactivity was %r\" % interactivity)\n",
            "2817 \t\n",
            "2818 \t        try:\n",
            "2819 \t            for i, node in enumerate(to_run_exec):\n",
            "2820 ->\t                mod = ast.Module([node])\n",
            "2821 \t                code = compiler(mod, cell_name, \"exec\")\n",
            "2822 \t                if self.run_code(code, result):\n",
            "2823 \t                    return True\n",
            "2824 \t\n",
            "2825 \t            for i, node in enumerate(to_run_interactive):\n",
            "(Pdb) s\n",
            "> /usr/local/lib/python3.6/dist-packages/IPython/core/interactiveshell.py(2821)run_ast_nodes()\n",
            "-> code = compiler(mod, cell_name, \"exec\")\n",
            "(Pdb) s\n",
            "--Call--\n",
            "> /usr/lib/python3.6/codeop.py(132)__call__()\n",
            "-> def __call__(self, source, filename, symbol):\n",
            "(Pdb) l\n",
            "127  \t    statement, it \"remembers\" and compiles all subsequent program texts\n",
            "128  \t    with the statement in force.\"\"\"\n",
            "129  \t    def __init__(self):\n",
            "130  \t        self.flags = PyCF_DONT_IMPLY_DEDENT\n",
            "131  \t\n",
            "132  ->\t    def __call__(self, source, filename, symbol):\n",
            "133  \t        codeob = compile(source, filename, symbol, self.flags, 1)\n",
            "134  \t        for feature in _features:\n",
            "135  \t            if codeob.co_flags & feature.compiler_flag:\n",
            "136  \t                self.flags |= feature.compiler_flag\n",
            "137  \t        return codeob\n",
            "--KeyboardInterrupt--\n",
            "--KeyboardInterrupt--\n"
          ],
          "name": "stdout"
        }
      ]
    },
    {
      "metadata": {
        "id": "4efFdrQ7MBvl",
        "colab_type": "text"
      },
      "cell_type": "markdown",
      "source": [
        "We create a helper function to evaluate the agent:"
      ]
    },
    {
      "metadata": {
        "id": "63M8mSKR-6Zt",
        "colab_type": "code",
        "colab": {}
      },
      "cell_type": "code",
      "source": [
        "def evaluate(model, num_steps=1000):\n",
        "  \"\"\"\n",
        "  Evaluate a RL agent\n",
        "  :param model: (BaseRLModel object) the RL Agent\n",
        "  :param num_steps: (int) number of timesteps to evaluate it\n",
        "  :return: (float) Mean reward for the last 100 episodes\n",
        "  \"\"\"\n",
        "  episode_rewards = [0.0]\n",
        "  obs = env.reset()\n",
        "  for i in range(num_steps):\n",
        "      # _states are only useful when using LSTM policies\n",
        "      bose_shape=obs.shape\n",
        "      action, _states = model.predict(obs)\n",
        "      # here, action, rewards and dones are arrays\n",
        "      # because we are using vectorized env\n",
        "      obs, rewards, dones, info = env.step(action)\n",
        "      \n",
        "      # Stats\n",
        "      episode_rewards[-1] += rewards[0]\n",
        "      if dones[0]:\n",
        "          obs = env.reset()\n",
        "          episode_rewards.append(0.0)\n",
        "  # Compute mean reward for the last 100 episodes\n",
        "  mean_100ep_reward = round(np.mean(episode_rewards[-100:]), 1)\n",
        "  print(\"Mean reward:\", mean_100ep_reward, \"Num episodes:\", len(episode_rewards))\n",
        "  print(bose_shape)\n",
        "  print(obs)\n",
        "  return mean_100ep_reward"
      ],
      "execution_count": 0,
      "outputs": []
    },
    {
      "metadata": {
        "id": "zjEVOIY8NVeK",
        "colab_type": "text"
      },
      "cell_type": "markdown",
      "source": [
        "Let's evaluate the un-trained agent, this should be a random agent."
      ]
    },
    {
      "metadata": {
        "id": "xDHLMA6NFk95",
        "colab_type": "code",
        "outputId": "7ad0a6ae-b7cc-418a-8ae4-351aeb521304",
        "colab": {
          "base_uri": "https://localhost:8080/",
          "height": 90
        }
      },
      "cell_type": "code",
      "source": [
        "# Random Agent, before training\n",
        "mean_reward_before_train = evaluate(model, num_steps=10000)"
      ],
      "execution_count": 64,
      "outputs": [
        {
          "output_type": "stream",
          "text": [
            "Mean reward: -191.4 Num episodes: 104\n",
            "(1, 8)\n",
            "[[ 0.00203476  0.6566262  -0.15301418 -1.0697302   0.4138869   0.35781956\n",
            "   0.          0.        ]]\n"
          ],
          "name": "stdout"
        }
      ]
    },
    {
      "metadata": {
        "id": "r5UoXTZPNdFE",
        "colab_type": "text"
      },
      "cell_type": "markdown",
      "source": [
        "## Train the agent and save it\n",
        "\n",
        "Warning: this may take a while"
      ]
    },
    {
      "metadata": {
        "id": "e4cfSXIB-pTF",
        "colab_type": "code",
        "colab": {}
      },
      "cell_type": "code",
      "source": [
        "# Train the agent\n",
        "model.learn(total_timesteps=50000)\n",
        "# Save the agent\n",
        "model.save(\"a2c_lunar\")\n",
        "#del model  # delete trained model to demonstrate loading"
      ],
      "execution_count": 0,
      "outputs": []
    },
    {
      "metadata": {
        "id": "T31dZJYNrJwF",
        "colab_type": "text"
      },
      "cell_type": "markdown",
      "source": [
        "## Load the trained agent"
      ]
    },
    {
      "metadata": {
        "id": "q8vE5ElvGLDX",
        "colab_type": "code",
        "colab": {
          "base_uri": "https://localhost:8080/",
          "height": 35
        },
        "outputId": "38f202e1-6e9e-4efb-af55-231639524027"
      },
      "cell_type": "code",
      "source": [
        "print('hello')"
      ],
      "execution_count": 44,
      "outputs": [
        {
          "output_type": "stream",
          "text": [
            "hello\n"
          ],
          "name": "stdout"
        }
      ]
    },
    {
      "metadata": {
        "id": "K1ExgtyZrIA6",
        "colab_type": "code",
        "colab": {
          "base_uri": "https://localhost:8080/",
          "height": 35
        },
        "outputId": "fd83d7e0-a7f0-4607-d7cf-1e993fd2cc4b"
      },
      "cell_type": "code",
      "source": [
        "model = A2C.load(\"a2c_lunar\")"
      ],
      "execution_count": 50,
      "outputs": [
        {
          "output_type": "stream",
          "text": [
            "Loading a model without an environment, this model cannot be trained until it has a valid environment.\n"
          ],
          "name": "stdout"
        }
      ]
    },
    {
      "metadata": {
        "id": "ygl_gVmV_QP7",
        "colab_type": "code",
        "outputId": "cbc71b14-2f81-409a-caac-848c2499dfc1",
        "colab": {
          "base_uri": "https://localhost:8080/",
          "height": 90
        }
      },
      "cell_type": "code",
      "source": [
        "# Evaluate the trained agent\n",
        "mean_reward = evaluate(model, num_steps=10000)"
      ],
      "execution_count": 68,
      "outputs": [
        {
          "output_type": "stream",
          "text": [
            "Mean reward: -50.9 Num episodes: 39\n",
            "(1, 8)\n",
            "[[-0.04557629  0.5396952   0.09012793 -0.23574258 -0.1658564   0.03524155\n",
            "   0.          0.        ]]\n"
          ],
          "name": "stdout"
        }
      ]
    }
  ]
}